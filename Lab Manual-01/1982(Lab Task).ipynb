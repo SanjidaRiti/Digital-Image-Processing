{
 "cells": [
  {
   "cell_type": "code",
   "execution_count": 1,
   "id": "85a7cb3e",
   "metadata": {},
   "outputs": [
    {
     "data": {
      "text/plain": [
       "[31, 32, 33, 34, 35]"
      ]
     },
     "execution_count": 1,
     "metadata": {},
     "output_type": "execute_result"
    }
   ],
   "source": [
    "x= [[1,2,3,4,5],[21,22,23,24,25],[31,32,33,34,35]]\n",
    "x[2]\n"
   ]
  },
  {
   "cell_type": "code",
   "execution_count": 2,
   "id": "dc5d4b1b",
   "metadata": {},
   "outputs": [
    {
     "data": {
      "text/plain": [
       "23"
      ]
     },
     "execution_count": 2,
     "metadata": {},
     "output_type": "execute_result"
    }
   ],
   "source": [
    "x[1][2]"
   ]
  },
  {
   "cell_type": "code",
   "execution_count": 3,
   "id": "a55d1df3",
   "metadata": {},
   "outputs": [
    {
     "data": {
      "text/plain": [
       "[22, 23]"
      ]
     },
     "execution_count": 3,
     "metadata": {},
     "output_type": "execute_result"
    }
   ],
   "source": [
    "x[1][1:3]"
   ]
  },
  {
   "cell_type": "code",
   "execution_count": 4,
   "id": "c3783dc4",
   "metadata": {},
   "outputs": [
    {
     "data": {
      "text/plain": [
       "[1, 3, 5]"
      ]
     },
     "execution_count": 4,
     "metadata": {},
     "output_type": "execute_result"
    }
   ],
   "source": [
    "x[0][::2]"
   ]
  },
  {
   "cell_type": "code",
   "execution_count": 5,
   "id": "dafa22af",
   "metadata": {},
   "outputs": [
    {
     "name": "stdout",
     "output_type": "stream",
     "text": [
      "[3.0, 23.0, 33.0]\n"
     ]
    }
   ],
   "source": [
    "x = [[1, 2, 3, 4, 5], [21, 22, 23, 24, 25], [31, 32, 33, 34, 35]]\n",
    "y = [0, 0, 0]\n",
    "\n",
    "for i in range(len(x)):\n",
    "    avrg = sum(x[i]) / len(x[i]) if len(x[i]) > 0 else 0\n",
    "    y[i] = avrg\n",
    "\n",
    "print(y)\n"
   ]
  },
  {
   "cell_type": "code",
   "execution_count": 6,
   "id": "1895250d",
   "metadata": {},
   "outputs": [
    {
     "name": "stdout",
     "output_type": "stream",
     "text": [
      "[3.0, 4.666666666666667, 6.0, 7.0, 7.0, 5.0, 3.0, 2.0]\n"
     ]
    }
   ],
   "source": [
    "x = [1, 3, 5, 6, 7, 8, 6, 1, 2, 3]\n",
    "y = [0, 0, 0, 0, 0, 0, 0, 0]\n",
    "\n",
    "\n",
    "i = 0  \n",
    "y_index = 0 \n",
    "\n",
    "while i < len(x) and y_index < len(y):\n",
    "    \n",
    "    average_x = sum(x[i:i+3]) / min(3, len(x) - i) if min(3, len(x) - i) > 0 else 0\n",
    "    \n",
    "    y[y_index] = average_x\n",
    "    i += 1\n",
    "    y_index += 1\n",
    "\n",
    "print(y)"
   ]
  },
  {
   "cell_type": "code",
   "execution_count": 7,
   "id": "ce369b47",
   "metadata": {},
   "outputs": [
    {
     "name": "stdout",
     "output_type": "stream",
     "text": [
      "The average of x is: 4.2\n",
      "The average of y is: 4.708333333333334\n"
     ]
    }
   ],
   "source": [
    "def calculate_average(lst):\n",
    "   \n",
    "    return sum(lst) / len(lst) if len(lst) > 0 else 0\n",
    "\n",
    "avrg_x = calculate_average(x)\n",
    "avrg_y = calculate_average(y)\n",
    "\n",
    "print(\"The average of x is:\" , avrg_x)\n",
    "print(\"The average of y is:\", avrg_y)\n"
   ]
  },
  {
   "cell_type": "code",
   "execution_count": 9,
   "id": "870cdf68",
   "metadata": {},
   "outputs": [
    {
     "name": "stdout",
     "output_type": "stream",
     "text": [
      "[3.0, 4.666666666666667, 6.0, 7.0, 7.0, 5.0, 3.0, 2.0]\n"
     ]
    }
   ],
   "source": [
    "x = [1, 3, 5, 6, 7, 8, 6, 1, 2, 3]\n",
    "y = [0, 0, 0, 0, 0, 0, 0, 0]\n",
    "\n",
    "i=0\n",
    "\n",
    "while i<len(y):\n",
    "    sum=x[i]+x[i+1]+x[i+2]\n",
    "    avrg=sum/3.0\n",
    "    y[i]=avrg\n",
    "    i=i+1\n",
    "print(y)\n"
   ]
  },
  {
   "cell_type": "code",
   "execution_count": null,
   "id": "b5821967",
   "metadata": {},
   "outputs": [],
   "source": []
  }
 ],
 "metadata": {
  "kernelspec": {
   "display_name": "Python 3 (ipykernel)",
   "language": "python",
   "name": "python3"
  },
  "language_info": {
   "codemirror_mode": {
    "name": "ipython",
    "version": 3
   },
   "file_extension": ".py",
   "mimetype": "text/x-python",
   "name": "python",
   "nbconvert_exporter": "python",
   "pygments_lexer": "ipython3",
   "version": "3.10.9"
  }
 },
 "nbformat": 4,
 "nbformat_minor": 5
}
