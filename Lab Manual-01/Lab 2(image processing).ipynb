{
 "cells": [
  {
   "cell_type": "code",
   "execution_count": 2,
   "id": "c245f991",
   "metadata": {},
   "outputs": [
    {
     "name": "stdout",
     "output_type": "stream",
     "text": [
      "Hello World\n"
     ]
    }
   ],
   "source": [
    "print(\"Hello World\")"
   ]
  },
  {
   "cell_type": "markdown",
   "id": "151334b2",
   "metadata": {},
   "source": [
    "# Operators\n"
   ]
  },
  {
   "cell_type": "code",
   "execution_count": 3,
   "id": "811634d5",
   "metadata": {},
   "outputs": [
    {
     "name": "stdout",
     "output_type": "stream",
     "text": [
      "3\n",
      "32\n",
      "2\n",
      "2.3333333333333335\n",
      "1\n"
     ]
    }
   ],
   "source": [
    "print(1+2)\n",
    "print(2**5)\n",
    "print(7//3)\n",
    "print(7/3)\n",
    "print(5%2)"
   ]
  },
  {
   "cell_type": "markdown",
   "id": "5e93a309",
   "metadata": {},
   "source": [
    "# Variables"
   ]
  },
  {
   "cell_type": "code",
   "execution_count": 4,
   "id": "fd7a671b",
   "metadata": {},
   "outputs": [
    {
     "name": "stdout",
     "output_type": "stream",
     "text": [
      "<class 'int'>\n"
     ]
    }
   ],
   "source": [
    "x=4\n",
    "print(type(x))"
   ]
  },
  {
   "cell_type": "code",
   "execution_count": 5,
   "id": "fd4aa929",
   "metadata": {},
   "outputs": [
    {
     "name": "stdout",
     "output_type": "stream",
     "text": [
      "<class 'str'>\n"
     ]
    }
   ],
   "source": [
    "x=\"4\"\n",
    "print(type(x))"
   ]
  },
  {
   "cell_type": "code",
   "execution_count": 9,
   "id": "7f67b097",
   "metadata": {},
   "outputs": [
    {
     "name": "stdout",
     "output_type": "stream",
     "text": [
      "<class 'float'>\n"
     ]
    }
   ],
   "source": [
    "y=3.1416\n",
    "print(type(y))"
   ]
  },
  {
   "cell_type": "code",
   "execution_count": 2,
   "id": "3f2c0dd2",
   "metadata": {},
   "outputs": [
    {
     "name": "stdout",
     "output_type": "stream",
     "text": [
      "77\n"
     ]
    }
   ],
   "source": [
    "x,y=12.43, 67 \n",
    "z=10\n",
    "print(y+z)\n"
   ]
  },
  {
   "cell_type": "code",
   "execution_count": 3,
   "id": "6acc85c7",
   "metadata": {},
   "outputs": [
    {
     "name": "stdout",
     "output_type": "stream",
     "text": [
      "<class 'bool'>\n"
     ]
    }
   ],
   "source": [
    "flag=True\n",
    "print(type(flag))"
   ]
  },
  {
   "cell_type": "markdown",
   "id": "a2818f73",
   "metadata": {},
   "source": [
    "# Strings"
   ]
  },
  {
   "cell_type": "code",
   "execution_count": 21,
   "id": "67f8e310",
   "metadata": {},
   "outputs": [
    {
     "name": "stdout",
     "output_type": "stream",
     "text": [
      "pycharm\n",
      "py charm\n",
      "pypypypypy\n",
      "py5\n"
     ]
    }
   ],
   "source": [
    "a='py'\n",
    "b='charm'\n",
    "print(a+b)\n",
    "print(a,b)\n",
    "print(a*5)\n",
    "print(a + str(5))"
   ]
  },
  {
   "cell_type": "code",
   "execution_count": 18,
   "id": "4a3574c7",
   "metadata": {},
   "outputs": [
    {
     "name": "stdout",
     "output_type": "stream",
     "text": [
      "56\n",
      "<class 'str'>\n"
     ]
    }
   ],
   "source": [
    "t=str(56)\n",
    "print(t)\n",
    "print(type(t))"
   ]
  },
  {
   "cell_type": "code",
   "execution_count": 19,
   "id": "46d5be48",
   "metadata": {},
   "outputs": [
    {
     "data": {
      "text/plain": [
       "'Hello World'"
      ]
     },
     "execution_count": 19,
     "metadata": {},
     "output_type": "execute_result"
    }
   ],
   "source": [
    "a=\"Hello World\"\n",
    "a"
   ]
  },
  {
   "cell_type": "code",
   "execution_count": 20,
   "id": "3e2f92c1",
   "metadata": {},
   "outputs": [
    {
     "data": {
      "text/plain": [
       "'Hello World'"
      ]
     },
     "execution_count": 20,
     "metadata": {},
     "output_type": "execute_result"
    }
   ],
   "source": [
    "a='Hello World'\n",
    "a"
   ]
  },
  {
   "cell_type": "code",
   "execution_count": 25,
   "id": "ad81b27c",
   "metadata": {},
   "outputs": [
    {
     "data": {
      "text/plain": [
       "' abcde, xyz, Hello Everyone'"
      ]
     },
     "execution_count": 25,
     "metadata": {},
     "output_type": "execute_result"
    }
   ],
   "source": [
    "a=\"\"\" abcde, xyz, Hello Everyone\"\"\"\n",
    "a"
   ]
  },
  {
   "cell_type": "code",
   "execution_count": 8,
   "id": "bb3c9a4d",
   "metadata": {},
   "outputs": [
    {
     "data": {
      "text/plain": [
       "[31, 32, 33, 34, 35]"
      ]
     },
     "execution_count": 8,
     "metadata": {},
     "output_type": "execute_result"
    }
   ],
   "source": [
    "x= [[1,2,3,4,5],[21,22,23,24,25],[31,32,33,34,35]]\n",
    "x[2]"
   ]
  },
  {
   "cell_type": "code",
   "execution_count": 9,
   "id": "1995decf",
   "metadata": {},
   "outputs": [
    {
     "data": {
      "text/plain": [
       "23"
      ]
     },
     "execution_count": 9,
     "metadata": {},
     "output_type": "execute_result"
    }
   ],
   "source": [
    "x[1][2]"
   ]
  },
  {
   "cell_type": "code",
   "execution_count": 10,
   "id": "33cd488a",
   "metadata": {},
   "outputs": [
    {
     "data": {
      "text/plain": [
       "[22, 23]"
      ]
     },
     "execution_count": 10,
     "metadata": {},
     "output_type": "execute_result"
    }
   ],
   "source": [
    "x[1][1:3]"
   ]
  },
  {
   "cell_type": "code",
   "execution_count": 11,
   "id": "f1c8551e",
   "metadata": {},
   "outputs": [
    {
     "data": {
      "text/plain": [
       "[1, 3, 5]"
      ]
     },
     "execution_count": 11,
     "metadata": {},
     "output_type": "execute_result"
    }
   ],
   "source": [
    "x[0][::2]"
   ]
  },
  {
   "cell_type": "code",
   "execution_count": 12,
   "id": "957c688d",
   "metadata": {},
   "outputs": [
    {
     "data": {
      "text/plain": [
       "5"
      ]
     },
     "execution_count": 12,
     "metadata": {},
     "output_type": "execute_result"
    }
   ],
   "source": [
    "x[0][-1]\n"
   ]
  },
  {
   "cell_type": "code",
   "execution_count": 15,
   "id": "c5fc7960",
   "metadata": {},
   "outputs": [
    {
     "data": {
      "text/plain": [
       "[1, 3]"
      ]
     },
     "execution_count": 15,
     "metadata": {},
     "output_type": "execute_result"
    }
   ],
   "source": [
    "x[0][0:4:2]\n"
   ]
  },
  {
   "cell_type": "markdown",
   "id": "217e193c",
   "metadata": {},
   "source": [
    "# Copy"
   ]
  },
  {
   "cell_type": "code",
   "execution_count": 19,
   "id": "4e10237b",
   "metadata": {},
   "outputs": [
    {
     "name": "stdout",
     "output_type": "stream",
     "text": [
      "[1, 2, 3, 4] [1, 2, 3, 4] [1, 2, 3, 4]\n",
      "[1, 2, 3]\n"
     ]
    }
   ],
   "source": [
    "w=[1,2,3,4]\n",
    "x=w\n",
    "y=w[:]\n",
    "print(w,x,y)\n",
    "z=w[0:3]\n",
    "print(z)\n"
   ]
  },
  {
   "cell_type": "markdown",
   "id": "d5f095e0",
   "metadata": {},
   "source": [
    "# Identation"
   ]
  },
  {
   "cell_type": "code",
   "execution_count": 23,
   "id": "b046ce62",
   "metadata": {},
   "outputs": [
    {
     "name": "stdout",
     "output_type": "stream",
     "text": [
      "this will print always\n"
     ]
    }
   ],
   "source": [
    "x=2\n",
    "if x==10:\n",
    "  print (\"this is inside if block\")\n",
    "  print (\"this is also inside if block\")\n",
    "print(\"this will print always\")"
   ]
  },
  {
   "cell_type": "markdown",
   "id": "e383c0bf",
   "metadata": {},
   "source": [
    "# If statement"
   ]
  },
  {
   "cell_type": "code",
   "execution_count": 27,
   "id": "7f4c1ddd",
   "metadata": {},
   "outputs": [
    {
     "name": "stdout",
     "output_type": "stream",
     "text": [
      "Number is less than 24\n"
     ]
    }
   ],
   "source": [
    "number = 23\n",
    "if number == 24:\n",
    " print (\"number is equal to 24\")\n",
    "elif number<24:\n",
    " print (\"Number is less than 24\")\n",
    "else:\n",
    " print (\"Number is higher than 24\")"
   ]
  },
  {
   "cell_type": "markdown",
   "id": "5565f0db",
   "metadata": {},
   "source": [
    "# While Statement"
   ]
  },
  {
   "cell_type": "code",
   "execution_count": 28,
   "id": "3e31c0c1",
   "metadata": {},
   "outputs": [
    {
     "name": "stdout",
     "output_type": "stream",
     "text": [
      "23\n",
      "24\n",
      "25\n",
      "26\n",
      "27\n",
      "28\n",
      "29\n",
      "30\n",
      "31\n",
      "32\n",
      "33\n",
      "34\n",
      "35\n",
      "36\n",
      "37\n",
      "38\n",
      "39\n",
      "40\n",
      "41\n",
      "42\n",
      "43\n",
      "44\n",
      "45\n",
      "46\n",
      "47\n",
      "48\n",
      "49\n",
      "There is an else statement\n"
     ]
    }
   ],
   "source": [
    "num=23\n",
    "while(num<50):\n",
    "    print(num)\n",
    "    num=num+1\n",
    "else:\n",
    "    print(\"There is an else statement\")"
   ]
  },
  {
   "cell_type": "markdown",
   "id": "85f1299e",
   "metadata": {},
   "source": [
    "# for loop"
   ]
  },
  {
   "cell_type": "code",
   "execution_count": 36,
   "id": "b63c1f78",
   "metadata": {},
   "outputs": [
    {
     "name": "stdout",
     "output_type": "stream",
     "text": [
      "0\n",
      "1\n",
      "2\n",
      "3\n",
      "4\n",
      "5\n"
     ]
    }
   ],
   "source": [
    "for i in range (10):\n",
    " if i==6:\n",
    "  break\n",
    " print(i)\n"
   ]
  },
  {
   "cell_type": "code",
   "execution_count": 34,
   "id": "a2ab0cc4",
   "metadata": {},
   "outputs": [
    {
     "name": "stdout",
     "output_type": "stream",
     "text": [
      "3\n",
      "4\n",
      "5\n",
      "6\n",
      "7\n",
      "8\n",
      "9\n"
     ]
    }
   ],
   "source": [
    "for i in range (3, 10):\n",
    " print(i)\n",
    " if i==6:\n",
    "  continue"
   ]
  },
  {
   "cell_type": "code",
   "execution_count": 35,
   "id": "e87bdcc7",
   "metadata": {},
   "outputs": [
    {
     "name": "stdout",
     "output_type": "stream",
     "text": [
      "1\n",
      "4\n",
      "7\n"
     ]
    }
   ],
   "source": [
    "for i in range (1, 10, 3):\n",
    " print(i)"
   ]
  },
  {
   "cell_type": "markdown",
   "id": "99a96ac7",
   "metadata": {},
   "source": [
    "# function"
   ]
  },
  {
   "cell_type": "code",
   "execution_count": 40,
   "id": "79abc67a",
   "metadata": {},
   "outputs": [
    {
     "name": "stdout",
     "output_type": "stream",
     "text": [
      "4  is maximum\n",
      "7  is maximum\n"
     ]
    }
   ],
   "source": [
    "def print_max(a,b=0):\n",
    "    if(a>b):\n",
    "      print(a,\" is maximum\")\n",
    "    elif a==b:\n",
    "        print(a, \" is equal \",b)\n",
    "    else:\n",
    "        print(b, \" is maximum\")\n",
    "\n",
    "print_max(3,4)\n",
    "x=5\n",
    "y=7\n",
    "print_max(x,y)"
   ]
  },
  {
   "cell_type": "code",
   "execution_count": 46,
   "id": "a0e452d0",
   "metadata": {},
   "outputs": [
    {
     "name": "stdout",
     "output_type": "stream",
     "text": [
      "a is  3 and b is  7 and c is  10\n",
      "a is  25 and b is  5 and c is  24\n",
      "a is  100 and b is  5 and c is  50\n"
     ]
    }
   ],
   "source": [
    "def func(a,b=5,c=10):\n",
    "    print(\"a is \",a, \"and b is \",b, \"and c is \",c)\n",
    "func(3,7)\n",
    "func(25,c=24)\n",
    "func(c=50, a=100)"
   ]
  },
  {
   "cell_type": "code",
   "execution_count": 48,
   "id": "198bd6e7",
   "metadata": {},
   "outputs": [
    {
     "name": "stdout",
     "output_type": "stream",
     "text": [
      "5\n"
     ]
    }
   ],
   "source": [
    "def max(x,y):\n",
    "    if(x>y):\n",
    "        return x\n",
    "    else:\n",
    "        return y\n",
    "m=max(3,5)\n",
    "print(m)"
   ]
  },
  {
   "cell_type": "markdown",
   "id": "9442083f",
   "metadata": {},
   "source": [
    "# Task-01 (a)"
   ]
  },
  {
   "cell_type": "code",
   "execution_count": 55,
   "id": "5d2a6eea",
   "metadata": {},
   "outputs": [
    {
     "name": "stdout",
     "output_type": "stream",
     "text": [
      "[31, 32, 33, 34, 35]\n",
      "23\n",
      "[22, 23]\n",
      "[1, 3, 5]\n"
     ]
    }
   ],
   "source": [
    "x = [[1, 2, 3, 4, 5], [21, 22, 23, 24, 25], [31, 32, 33, 34, 35]]\n",
    "print(x[2])\n",
    "print(x[1][2])\n",
    "print(x[1][1:3])\n",
    "print(x[0][::2])"
   ]
  },
  {
   "cell_type": "markdown",
   "id": "5a863826",
   "metadata": {},
   "source": [
    "# Task-01(b)\n"
   ]
  },
  {
   "cell_type": "code",
   "execution_count": 49,
   "id": "fc760bfb",
   "metadata": {},
   "outputs": [
    {
     "name": "stdout",
     "output_type": "stream",
     "text": [
      "[3.0, 23.0, 33.0]\n"
     ]
    }
   ],
   "source": [
    "x = [[1, 2, 3, 4, 5], [21, 22, 23, 24, 25], [31, 32, 33, 34, 35]]\n",
    "y = [0, 0, 0]\n",
    "\n",
    "for i in range(len(x)):\n",
    "    sum=0;\n",
    "    for j in range(len(x[i])):\n",
    "        sum+=x[i][j];\n",
    "    y[i]=sum/len(x[i])\n",
    "\n",
    "print(y)"
   ]
  },
  {
   "cell_type": "markdown",
   "id": "fdf0bfa0",
   "metadata": {},
   "source": [
    "# Task-02(a)"
   ]
  },
  {
   "cell_type": "code",
   "execution_count": null,
   "id": "2cfd06f3",
   "metadata": {},
   "outputs": [],
   "source": [
    "x = [1, 3, 5, 6, 7, 8, 6, 1, 2, 3]\n",
    "y = [0, 0, 0, 0, 0, 0, 0, 0]\n",
    "\n",
    "i=0\n",
    "\n",
    "while i<len(y):\n",
    "    sum=x[i]+x[i+1]+x[i+2]\n",
    "    avrg=sum/3.0\n",
    "    y[i]=avrg\n",
    "    i=i+1\n",
    "print(y)\n"
   ]
  },
  {
   "cell_type": "markdown",
   "id": "eaf904e1",
   "metadata": {},
   "source": [
    "# Task-02(b)"
   ]
  },
  {
   "cell_type": "code",
   "execution_count": null,
   "id": "32627df0",
   "metadata": {},
   "outputs": [],
   "source": [
    "\n",
    "def calculate_average(lst):\n",
    "   \n",
    "    return sum(lst) / len(lst) if len(lst) > 0 else 0\n",
    "\n",
    "avrg_x = calculate_average(x)\n",
    "avrg_y = calculate_average(y)\n",
    "\n",
    "print(f\"The average of x is: {avrg_x}\")\n",
    "print(f\"The average of y is: {avrg_y}\")"
   ]
  },
  {
   "cell_type": "code",
   "execution_count": null,
   "id": "4b297b73",
   "metadata": {},
   "outputs": [],
   "source": [
    "\n"
   ]
  },
  {
   "cell_type": "code",
   "execution_count": null,
   "id": "2983c515",
   "metadata": {},
   "outputs": [],
   "source": []
  },
  {
   "cell_type": "code",
   "execution_count": null,
   "id": "8ee45a88",
   "metadata": {},
   "outputs": [],
   "source": [
    "\n"
   ]
  },
  {
   "cell_type": "code",
   "execution_count": null,
   "id": "5d1ea0e5",
   "metadata": {},
   "outputs": [],
   "source": [
    "\n"
   ]
  },
  {
   "cell_type": "code",
   "execution_count": null,
   "id": "67f7264c",
   "metadata": {},
   "outputs": [],
   "source": []
  },
  {
   "cell_type": "code",
   "execution_count": null,
   "id": "77401e9f",
   "metadata": {},
   "outputs": [],
   "source": [
    "\n"
   ]
  },
  {
   "cell_type": "code",
   "execution_count": null,
   "id": "270993b8",
   "metadata": {},
   "outputs": [],
   "source": []
  },
  {
   "cell_type": "code",
   "execution_count": null,
   "id": "75ce4196",
   "metadata": {},
   "outputs": [],
   "source": []
  },
  {
   "cell_type": "code",
   "execution_count": null,
   "id": "3aebff84",
   "metadata": {},
   "outputs": [],
   "source": []
  },
  {
   "cell_type": "code",
   "execution_count": null,
   "id": "251f1866",
   "metadata": {},
   "outputs": [],
   "source": []
  },
  {
   "cell_type": "code",
   "execution_count": null,
   "id": "7ada05a7",
   "metadata": {},
   "outputs": [],
   "source": []
  }
 ],
 "metadata": {
  "kernelspec": {
   "display_name": "Python 3 (ipykernel)",
   "language": "python",
   "name": "python3"
  },
  "language_info": {
   "codemirror_mode": {
    "name": "ipython",
    "version": 3
   },
   "file_extension": ".py",
   "mimetype": "text/x-python",
   "name": "python",
   "nbconvert_exporter": "python",
   "pygments_lexer": "ipython3",
   "version": "3.10.9"
  }
 },
 "nbformat": 4,
 "nbformat_minor": 5
}
